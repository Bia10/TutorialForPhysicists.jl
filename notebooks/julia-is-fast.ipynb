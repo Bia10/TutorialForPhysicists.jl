{
 "cells": [
  {
   "cell_type": "markdown",
   "metadata": {},
   "source": [
    "# Julia is fast\n",
    "\n",
    "Very often, benchmarks are used to compare languages. These benchmarks can lead to long discussions, first as to exactly what is being benchmarked and secondly what explains the differences. These simple questions can sometimes get more complicated than you at first might imagine.\n",
    "\n",
    "The purpose of this notebook is for you to see a simple benchmark for yourself. One can read the notebook and see what happened on the author's ThinkPad t440p with a 4-core Intel Core I7, or run the notebook yourself.\n",
    "\n",
    "This material is based on [AgileRoboticsTutorial.jl](https://github.com/rdeits/AgileRoboticsTutorial.jl/blob/master/notebooks/2.%20Julia%20is%20Fast.ipynb)\n",
    "\n",
    "## sum: An easy enough function to understand\n",
    "\n",
    "Consider the **sum** function sum(a), which computes\n",
    "\n",
    "$$\n",
    "sum(a) = \\sum_{i=1}^n a_i\n",
    "$$\n"
   ]
  },
  {
   "cell_type": "code",
   "execution_count": 2,
   "metadata": {
    "scrolled": false
   },
   "outputs": [
    {
     "data": {
      "text/plain": [
       "10000000-element Array{Float64,1}:\n",
       " 0.335639 \n",
       " 0.596564 \n",
       " 0.539945 \n",
       " 0.506513 \n",
       " 0.496157 \n",
       " 0.474486 \n",
       " 0.445721 \n",
       " 0.686834 \n",
       " 0.62609  \n",
       " 0.996302 \n",
       " 0.119135 \n",
       " 0.223899 \n",
       " 0.250182 \n",
       " ⋮        \n",
       " 0.257526 \n",
       " 0.514789 \n",
       " 0.94242  \n",
       " 0.327553 \n",
       " 0.645092 \n",
       " 0.523333 \n",
       " 0.0801156\n",
       " 0.982771 \n",
       " 0.477464 \n",
       " 0.625646 \n",
       " 0.102346 \n",
       " 0.447395 "
      ]
     },
     "execution_count": 2,
     "metadata": {},
     "output_type": "execute_result"
    }
   ],
   "source": [
    "a = rand(10^7) # array of random numbers, uniform on [0, 1)"
   ]
  },
  {
   "cell_type": "code",
   "execution_count": null,
   "metadata": {},
   "outputs": [],
   "source": [
    "sum(a) # one expects this is 10^7 * .5, since the mean of each entry is .5"
   ]
  }
 ],
 "metadata": {
  "kernelspec": {
   "display_name": "Julia 0.6.3-pre",
   "language": "julia",
   "name": "julia-0.6"
  },
  "language_info": {
   "file_extension": ".jl",
   "mimetype": "application/julia",
   "name": "julia",
   "version": "0.6.3"
  }
 },
 "nbformat": 4,
 "nbformat_minor": 2
}
