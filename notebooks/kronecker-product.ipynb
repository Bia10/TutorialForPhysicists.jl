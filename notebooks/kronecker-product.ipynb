{
 "cells": [
  {
   "cell_type": "markdown",
   "metadata": {
    "slideshow": {
     "slide_type": "slide"
    }
   },
   "source": [
    "# Kronecker Expression Parser\n",
    "\n",
    "## Problem Setup\n",
    "\n",
    "Kronecker product and plus are frequently used operations in quantum physics, especially when you want to define a Hamiltonian. However, the mathematical notation of such expressions is different from what we use in modern BLAS libraries (e.g numpy, Eigen, Julia's LinearAlgebra, etc.). Basically we want to inform the machine that the following expression\n",
    "\n",
    "$$\n",
    "\\sigma_1^1\\sigma_1^4 + \\sigma_1^3\\sigma_1^5 + \\sigma_2^1 (\\sigma_1^2 + \\sigma_1^3)\n",
    "$$\n",
    "\n",
    "here we denote the Pauli group as\n",
    "\n",
    "$$\n",
    "\\sigma_0 = I \\quad \\sigma_1 = X \\quad \\sigma_2 = Y \\quad \\sigma_3 = Z\n",
    "$$\n",
    "\n",
    "and this expression actually means\n",
    "\n",
    "$$\n",
    "\\sigma_1^1\\sigma_0^2\\sigma_0^3\\sigma_1^4\\sigma_1^5 + \\sigma_0^1\\sigma_0^2\\sigma_1^3\\sigma_0^4\\sigma_1^5 + \\sigma_2^1 \\sigma_1^2\\sigma_0^3\\sigma_0^4\\sigma_0^5 + \\sigma_2^1\\sigma_0^2\\sigma_1^3\\sigma_0^4\\sigma_0^5\n",
    "$$\n",
    "\n",
    "Therefore, our task is to parser the original equation to this machine understandable expression and thanks to Julia's powerful metaprogramming feature, we are able to do this in a more elegant way with zero abstraction overhead by code generation.\n",
    "\n",
    "## Step 1: Define some shorthands\n",
    "\n",
    "The builtin `kron` function for kronecker product can only calculates two matrix, to ease future tests, we will implement some shorthands. First, we will overload the $\\otimes$ operator which will be parsed by Julia parser."
   ]
  },
  {
   "cell_type": "code",
   "execution_count": 1,
   "metadata": {},
   "outputs": [
    {
     "data": {
      "text/plain": [
       "⊗ (generic function with 1 method)"
      ]
     },
     "execution_count": 1,
     "metadata": {},
     "output_type": "execute_result"
    }
   ],
   "source": [
    "⊗(A, B) = kron(A, B)"
   ]
  },
  {
   "cell_type": "markdown",
   "metadata": {},
   "source": [
    " Then we will implement a function called `kronprod` that do kronecker product on an iterator that will iterates through several matrixes."
   ]
  },
  {
   "cell_type": "code",
   "execution_count": null,
   "metadata": {},
   "outputs": [],
   "source": [
    "function kronprod(itr)\n",
    "    state = start(itr)\n",
    "    first, state = next(itr, state)\n",
    "    second, state = next(itr, state)\n",
    "    pd = kron(first, second)\n",
    "    while !done(itr, state)\n",
    "        val, state = next(itr, state)\n",
    "        pd = kron(pd, val)\n",
    "    end\n",
    "    return pd\n",
    "end"
   ]
  },
  {
   "cell_type": "markdown",
   "metadata": {},
   "source": [
    "However, we would like to make this more clear, we will bind this function to another one with varitional parameters."
   ]
  },
  {
   "cell_type": "code",
   "execution_count": null,
   "metadata": {},
   "outputs": [],
   "source": [
    "kronprod(m::AbstractMatrix...) = kronprod(m)"
   ]
  },
  {
   "cell_type": "markdown",
   "metadata": {},
   "source": [
    "Then we will define some basic constants. In fact you can just use my package [QMTK.jl](http://rogerluo.me/QMTK.jl), the `Consts` module of QMTK provides most of the constants you will use in Quantum Physics based on NIST CODATA project.\n"
   ]
  },
  {
   "cell_type": "code",
   "execution_count": null,
   "metadata": {},
   "outputs": [],
   "source": [
    "const sigmax = sparse([0 1;1 0])\n",
    "const sigmay = sparse([0 -im;im 0])\n",
    "const sigmaz = sparse([1 0;0 -1])\n",
    "const sigmai = sparse([1 0;0 1])\n",
    "\n",
    "const σ₀ = sigmai\n",
    "const σ₁ = sigmax\n",
    "const σ₂ = sigmay\n",
    "const σ₃ = sigmaz\n"
   ]
  },
  {
   "cell_type": "markdown",
   "metadata": {},
   "source": [
    "## Step 2: Analyse the expression\n",
    "\n",
    "Let's analyse what we are going to parse again. The expression looks like\n",
    "\n",
    "$$\n",
    "\\sigma_1^1\\sigma_1^4 + \\sigma_1^3\\sigma_1^5 + \\sigma_2^1 (\\sigma_1^2 + \\sigma_1^3)\n",
    "$$\n",
    "\n",
    "\n",
    "mathematically, but it is not clear to write a superscript in the code, therefore we use a `[]` instead. Then it will looks like"
   ]
  },
  {
   "cell_type": "code",
   "execution_count": null,
   "metadata": {},
   "outputs": [],
   "source": [
    "ex = :(σ₁[1] * σ₁[4] + σ₁[3] * σ₁[5] + σ₂[1] * (σ₁[2] + σ₁[3]))"
   ]
  },
  {
   "cell_type": "markdown",
   "metadata": {},
   "source": [
    "1. We will use $*$/$\\otimes$ to denote the Kronecker product.\n",
    "2. We won consider the multiplication of scalar factors in this tutorial, which means `:(2 * σ₁[1] * σ₁[4])` will not be parsed.\n",
    "3. We allow distributive law of the Kronecker product and it should be expanded to plain expressions.\n",
    "\n",
    "Thus, there are three kinds of objects that we should consider\n",
    "\n",
    "- notation `x[order]`\n",
    "- an expression block that contains only Kronecker product operator $\\sigma_1^1\\sigma_1^4$\n",
    "- binary operators like `+`, `-`\n",
    "\n",
    "\n",
    "## Step 3: The Matrix Expression\n",
    "\n",
    "We first have to create an abstraction for the notation of a matrix expression with a specific order"
   ]
  },
  {
   "cell_type": "code",
   "execution_count": null,
   "metadata": {},
   "outputs": [],
   "source": [
    "mutable struct MatExpr\n",
    "    expr\n",
    "    index::Int\n",
    "end\n",
    "\n",
    "MatExpr(p::Pair) = MatExpr(p.first, p.second)"
   ]
  },
  {
   "cell_type": "markdown",
   "metadata": {},
   "source": [
    "And we also have to offer a constructor from expression, it only accepts an expression tagged as a reference"
   ]
  },
  {
   "cell_type": "code",
   "execution_count": null,
   "metadata": {},
   "outputs": [],
   "source": [
    "function MatExpr(e::Expr)\n",
    "    if Meta.isexpr(e, :ref)\n",
    "        return MatExpr(e.args[1], e.args[2])\n",
    "    else\n",
    "        throw(ParseError(\n",
    "            \"expects square brackets after matrix: matrix[index]\"\n",
    "        ))\n",
    "    end\n",
    "end"
   ]
  },
  {
   "cell_type": "markdown",
   "metadata": {},
   "source": [
    "Here we could reconsider what is an `type` in Julia. A `type` in Julia actually defines a set and functions on the set defines some properties of such set. And for the set of `MatExpr` has order, thus we will define a binary relationship here, called `isless`. This is a function in the standard interface, but don't worry that you will overload it by accident, Julia requires you to import those methods to overload them, or you will creat something only in current module (it throws an Error when in the `Main` module)."
   ]
  },
  {
   "cell_type": "code",
   "execution_count": null,
   "metadata": {},
   "outputs": [],
   "source": [
    "import Base: isless\n",
    "isless(x::MatExpr, y::MatExpr) = isless(x.index, y.index)"
   ]
  },
  {
   "cell_type": "markdown",
   "metadata": {},
   "source": [
    "## Step 4: Kronecker Product Block\n",
    "\n",
    "A block of Kronecker product is a few `MatExpr` with total length (to offer the information about how many identities we need to insert). We will denote it as the **Kronecker Product Block**. We seperate it from other binary operators because such a block has to contain information about the total number of matrixes inside such a block, which is quite different from other binary operators.\n",
    "\n",
    "However, as a mathematical property of Kronecker product, this operation has orders, which means\n",
    "\n",
    "$$\n",
    "\\sigma_1\\sigma_2\\sigma_3\n",
    "$$\n",
    "\n",
    "is different from\n",
    "\n",
    "$$\n",
    "\\sigma_2\\sigma_1\\sigma_3\n",
    "$$\n",
    "\n",
    "We have to keep our `MatExpr` in order based on the index of each `MatExpr`. Therefore, we have to keep a list of `MatExpr` in order. Let's review some sort algorithms:\n",
    "\n",
    "\n",
    "- **Heap sort**: complexity $n\\log(n)$, insertion complexity: $log(n)$\n",
    "- **quitck sort**: complexity $O(n^2)$ (worst-case), $n\\log(n)$ (Best case)\n",
    "\n",
    "Since we will keep inserting a list while reading the whole expression, we will choose to store our `MatExpr` on a heap. All the utilies related to heap is included in the package `DataStructures`."
   ]
  },
  {
   "cell_type": "code",
   "execution_count": null,
   "metadata": {},
   "outputs": [],
   "source": [
    "using DataStructures\n",
    "\n",
    "abstract type KronExpr end\n",
    "\n",
    "mutable struct KronProd <: KronExpr\n",
    "    len::Int\n",
    "    args::Vector{MatExpr}\n",
    "end\n",
    "\n",
    "KronProd() = KronProd(0, [])\n",
    "\n",
    "function setlen!(ex::KronProd, len::Int)\n",
    "    ex.len = len\n",
    "    return ex\n",
    "end\n",
    "\n",
    "function KronProd(seq::Vector{MatExpr})\n",
    "    total = 0\n",
    "    for each in seq\n",
    "        if total < each.index\n",
    "            total = each.index\n",
    "        end\n",
    "    end\n",
    "    return KronProd(total, heapify(seq))\n",
    "end"
   ]
  },
  {
   "cell_type": "markdown",
   "metadata": {},
   "source": [
    "## Step 5: Binary Expression\n",
    "\n",
    "In this tutorial, we only consider binary operators like `+`, `-`, but we do not want to make a type for each operator with similar content. We will use a parameter type with two abstract type as its tags"
   ]
  },
  {
   "cell_type": "code",
   "execution_count": null,
   "metadata": {},
   "outputs": [],
   "source": [
    "abstract type DirectPlus end\n",
    "abstract type DirectMinus end\n",
    "\n",
    "mutable struct BinaryExpr{OP, LHS <: KronExpr, RHS <: KronExpr} <: KronExpr\n",
    "    len::Int\n",
    "    left::LHS\n",
    "    right::RHS\n",
    "end\n",
    "\n",
    "function setlen!(ex::BinaryExpr, len::Int)\n",
    "    setlen!(ex.left, len)\n",
    "    setlen!(ex.right, len)\n",
    "    return ex\n",
    "end\n",
    "\n",
    "function BinaryExpr(::Type{OP}, lhs::LHS, rhs::RHS) where {OP, LHS, RHS}\n",
    "    len = max(lhs.len, rhs.len)\n",
    "    setlen!(lhs, len)\n",
    "    setlen!(rhs, len)\n",
    "    BinaryExpr{OP, LHS, RHS}(len, lhs, rhs)\n",
    "end"
   ]
  },
  {
   "cell_type": "markdown",
   "metadata": {},
   "source": [
    "## Step 6: Pretty Printing\n",
    "\n",
    "Before start to parse our expression, to ease the process of debugging and monitoring, we will prettify the display of each type first. This requires to overload the `show` interface of Base"
   ]
  },
  {
   "cell_type": "code",
   "execution_count": null,
   "metadata": {},
   "outputs": [],
   "source": [
    "import Base: show\n",
    "\n",
    "function show(io::IO, ex::MatExpr)\n",
    "    print(io, \"$(ex.expr)[$(ex.index)]\")\n",
    "end\n",
    "\n",
    "function show(io::IO, ex::KronProd)\n",
    "    seq = copy(ex.args)\n",
    "    print(io, \"kron($(ex.len), \")\n",
    "    count = 1\n",
    "    while !isempty(seq)\n",
    "        each = heappop!(seq)\n",
    "        print(io, \"$each\")\n",
    "        if count < length(ex.args)\n",
    "            print(io, \" ⊗ \")\n",
    "        end\n",
    "        count += 1\n",
    "    end\n",
    "    print(io, \")\")\n",
    "end\n",
    "\n",
    "function show(io::IO, ex::BinaryExpr{DirectPlus})\n",
    "    print(io, \"$(ex.left)\")\n",
    "    print(io, \" ⊕ \")\n",
    "    print(io, \"$(ex.right)\")\n",
    "end\n",
    "\n",
    "function show(io::IO, ex::BinaryExpr{DirectMinus})\n",
    "    print(io, \"$(ex.left)\")\n",
    "    print(io, \" ⊖ \")\n",
    "    print(io, \"$(ex.right)\")\n",
    "end"
   ]
  },
  {
   "cell_type": "markdown",
   "metadata": {},
   "source": [
    "## Step 7: Parse to Kronecker Expression\n",
    "\n",
    "The Kronecker expression includes two type of basic blocks we defined: `KronProd`, `BinaryExpr`, we will parse the Julia native AST(Abstract Syntax Tree) to a tree with two kinds of node and then re-generate an Julia AST (`Expr`) that actually evaluates the expression with function `kron`. Therefore, we firstly need to construct such a tree, since we actually won't care about the efficiency during code generation time, we will simply implement this recursively here.\n",
    "\n",
    "\n",
    "The builtin parser entrance is called `parse`. We will call ours `kronparse`. By default, `kronparse` should be an identity. "
   ]
  },
  {
   "cell_type": "code",
   "execution_count": null,
   "metadata": {},
   "outputs": [],
   "source": [
    "kronparse(expr) = expr"
   ]
  },
  {
   "cell_type": "markdown",
   "metadata": {},
   "source": [
    "When the input is an AST, which is the `Expr` type in Julia, we will dispatch it to different factory functions or constructors according to its expression tag. There are four different conditions:\n",
    "\n",
    "1. this expression is a reference `x[1]`, which means this is a Kronecker product block with a single matrix\n",
    "2. this expression is not a call expression, which means this is not an operator, then we will just return it\n",
    "3. this expression is a call expression of binary expressions `+`,`-`, we will send it to factory function `make_binary`\n",
    "4. this expression is a call expression of binary expressions `*, ⋅, ⊗`, we will send it to factory function `make_kronprod`\n",
    "5. this expression does not satify any condition above, we throw an `ErrorException` with the detailed information of this expression."
   ]
  },
  {
   "cell_type": "code",
   "execution_count": null,
   "metadata": {},
   "outputs": [],
   "source": [
    "function kronparse(expr::Expr)\n",
    "    if Meta.isexpr(expr, :ref)\n",
    "        return KronProd([MatExpr(expr)])\n",
    "    end\n",
    "\n",
    "    if !Meta.isexpr(expr, :call)\n",
    "        return expr\n",
    "    end\n",
    "\n",
    "    if expr.args[1] in (:+, :-)\n",
    "        return make_binary(expr)\n",
    "    elseif expr.args[1] in (:*, :⋅, :⊗)\n",
    "        return make_kronprod(expr)\n",
    "    else\n",
    "        throw(ErrorException(\"Invalid Expression $expr\"))\n",
    "    end\n",
    "end"
   ]
  },
  {
   "cell_type": "markdown",
   "metadata": {},
   "source": [
    "#### Parse Binary Operators\n",
    "\n",
    "We then implement those factory functions. Firstly, the `make_binary`, this will dispatch the expression to two different factory functions according to the expression."
   ]
  },
  {
   "cell_type": "code",
   "execution_count": null,
   "metadata": {},
   "outputs": [],
   "source": [
    "function make_binary(expr::Expr)\n",
    "    if expr.args[1] == :+\n",
    "        return make_plus(expr)\n",
    "    else\n",
    "        return make_minus(expr)\n",
    "    end\n",
    "end"
   ]
  },
  {
   "cell_type": "markdown",
   "metadata": {},
   "source": [
    "Now, before we implement all the details, we first define some very useful utilities."
   ]
  },
  {
   "cell_type": "code",
   "execution_count": null,
   "metadata": {},
   "outputs": [],
   "source": [
    "isprod(expr) = false\n",
    "isplus(expr) = false\n",
    "isminus(expr) = false\n",
    "\n",
    "isprod(expr::Expr) = expr.args[1] in :(:*, :⋅, :⊗)\n",
    "isplus(expr::Expr) = expr.args[1] == :+\n",
    "isminus(expr::Expr) = expr.args[1] == :-"
   ]
  },
  {
   "cell_type": "markdown",
   "metadata": {},
   "source": [
    "We attach the factory function back to make use of multiple dispatch and define the constructor of a `BinaryExpr`"
   ]
  },
  {
   "cell_type": "code",
   "execution_count": null,
   "metadata": {},
   "outputs": [],
   "source": [
    "make_plus(expr::Expr) = BinaryExpr(DirectPlus, expr)\n",
    "make_minus(expr::Expr) = BinaryExpr(DirectMinus, expr)"
   ]
  },
  {
   "cell_type": "markdown",
   "metadata": {},
   "source": [
    "Each `BinaryExpr` is actually a binary tree in the AST, however, native operators `+`/`-` is parsed to a list in Julia to reduce recursion, we will re-parse them to a tree structure here to easy our use in the future."
   ]
  },
  {
   "cell_type": "code",
   "execution_count": null,
   "metadata": {},
   "outputs": [],
   "source": [
    "function BinaryExpr(::Type{OP}, expr::Expr) where OP\n",
    "    seq = copy(expr.args[2:end])\n",
    "\n",
    "    if length(seq) == 2\n",
    "        r = BinaryExpr(\n",
    "            OP,\n",
    "            kronparse(seq[1]),\n",
    "            kronparse(seq[2])\n",
    "        )\n",
    "        return r\n",
    "    else\n",
    "        return BinaryExpr(\n",
    "            OP,\n",
    "            BinaryExpr(\n",
    "                DirectPlus,\n",
    "                Expr(:call, :+, seq[1:end-1]...),\n",
    "            ),\n",
    "            kronparse(seq[end])\n",
    "        )\n",
    "    end\n",
    "end"
   ]
  },
  {
   "cell_type": "markdown",
   "metadata": {},
   "source": [
    "#### Parse Kronecker Product\n",
    "\n",
    "For Kronecker product block, we have to expand brackets and merge local matrixes inside a brackets to global blocks. And for convenience we will let type `KronProd` inherit the interface of the heap with several methods."
   ]
  },
  {
   "cell_type": "code",
   "execution_count": null,
   "metadata": {},
   "outputs": [],
   "source": [
    "import Base: push!, pop!, copy\n",
    "\n",
    "copy(c::KronProd) = KronProd(c.len, copy(c.args))\n",
    "copy(ex::BinaryExpr{OP}) where OP = BinaryExpr(OP, copy(ex.left), copy(ex.right))\n",
    "\n",
    "push!(c::KronExpr, m::Expr) = push!(c, MatExpr(m))\n",
    "pop!(c::KronProd) = heappop!(c.args)\n",
    "\n",
    "function push!(ex::KronProd, m::MatExpr)\n",
    "    heappush!(ex.args, m)\n",
    "    if ex.len < m.index\n",
    "        ex.len = m.index\n",
    "    end\n",
    "    return ex\n",
    "end\n",
    "\n",
    "function make_kronprod(expr::Expr)\n",
    "    ex = KronProd()\n",
    "    for each in expr.args[2:end]\n",
    "        if Meta.isexpr(each, :ref)\n",
    "            push!(ex, each)\n",
    "        else\n",
    "            ex = merge(ex, kronparse(each))\n",
    "        end\n",
    "    end\n",
    "    return ex\n",
    "end"
   ]
  },
  {
   "cell_type": "markdown",
   "metadata": {},
   "source": [
    "Now we will consider several conditions in a Kronecker product expression:\n",
    "\n",
    "- $(\\sigma_1^1\\sigma_1^5)(\\sigma_1^2\\sigma_2^6) = \\sigma_1^1\\sigma_1^2\\sigma_1^5\\sigma_2^6$ merge two identical block together to one block\n",
    "- $(\\sigma_1^1 + \\sigma_2^3)\\sigma_1^2 = \\sigma_1^1\\sigma_1^2 + \\sigma_1^2\\sigma_2^3$ merge an identical block on the right into blocks inside a braket from right.\n",
    "- $\\sigma_1^1 (\\sigma_1^2 + \\sigma_2^3) = \\sigma_1^1\\sigma_1^2 + \\sigma_1^1\\sigma_2^3$ merge an identical block on the left into blocks inside a bracket from left.\n",
    "- $(\\sigma_1^1\\sigma_2^2 + \\sigma_1^1\\sigma_1^2)(\\sigma_1^3\\sigma_1^4 + \\sigma_2^3\\sigma_2^4)$ expand two binary expressions to single Kronecker product blocks.\n"
   ]
  },
  {
   "cell_type": "code",
   "execution_count": null,
   "metadata": {},
   "outputs": [],
   "source": [
    "# lhs = lhs * rhs\n",
    "function merge!(lhs::KronProd, rhs::KronProd)\n",
    "    for each in rhs.args\n",
    "        push!(lhs, each)\n",
    "    end\n",
    "\n",
    "    lhs.len = max(lhs.len, rhs.len)\n",
    "    return lhs\n",
    "end\n",
    "\n",
    "merge(lhs::KronProd, rhs::KronProd) = merge!(copy(lhs), rhs)\n",
    "\n",
    "# lhs := (lhs[1] + lhs[2]) * rhs = lhs[1] * rhs + lhs[2] * rhs\n",
    "function merge!(lhs::BinaryExpr, rhs::KronProd)\n",
    "    merge!(lhs.left, rhs)\n",
    "    merge!(lhs.right, rhs)\n",
    "\n",
    "    lhs.len = max(lhs.len, rhs.len)\n",
    "    return lhs\n",
    "end\n",
    "\n",
    "# lhs := lhs[3] * (rhs[1] + rhs[2])\n",
    "#      = lhs[3] * rhs[1] + lhs[3] * rhs[2]\n",
    "#      = rhs[1] * lhs[3] + rhs[2] * lhs[3]\n",
    "function merge(lhs::BinaryExpr, rhs::KronProd)\n",
    "    merge!(copy(lhs), rhs)\n",
    "end\n",
    "\n",
    "merge(lhs::KronProd, rhs::BinaryExpr) = merge(rhs, lhs)\n",
    "\n",
    "\n",
    "#   (lhs[1] OP1 lhs[2]) * (rhs[3] OP2 rhs[4])\n",
    "# = lhs[1] * rhs[3] OP2 lhs[1] * rhs[4] OP1 lhs[2] * rhs[3] OP2 lhs[2] * rhs[4]\n",
    "function merge(lhs::BinaryExpr{OP1}, rhs::BinaryExpr{OP2}) where {OP1, OP2}\n",
    "    r = BinaryExpr(OP2, merge(lhs.left, rhs.left), merge(lhs.left, rhs.right))\n",
    "    r = BinaryExpr(OP1, r, merge(lhs.right, rhs.left))\n",
    "    r = BinaryExpr(OP2, r, merge(lhs.right, rhs.right))\n",
    "    return r\n",
    "end\n"
   ]
  },
  {
   "cell_type": "markdown",
   "metadata": {},
   "source": [
    "Now we have finished the `kronparser`, and we can parse any avaible expression to a Kronecker expression AST. Let's try some example here."
   ]
  },
  {
   "cell_type": "code",
   "execution_count": null,
   "metadata": {},
   "outputs": [],
   "source": [
    "ex = kronparse(:(σ₁[1] * σ₁[3] * (σ₁[2] + σ₁[5])))"
   ]
  },
  {
   "cell_type": "markdown",
   "metadata": {},
   "source": [
    "We are almost there!!!\n",
    "\n",
    "## Step 8: Expand Kronecker Expression to Julia's Expr\n",
    "\n",
    "This is simply a tree's traversion and we can just write it with multiple dispatch, since we have already parsed the expression to different types.\n",
    "\n",
    "\n",
    "#### KronProd\n"
   ]
  },
  {
   "cell_type": "code",
   "execution_count": null,
   "metadata": {},
   "outputs": [],
   "source": [
    "function toexpr(ex::KronProd)\n",
    "    seq = []\n",
    "    previous = 0; ind = 0\n",
    "    while !isempty(ex.args)\n",
    "        each = pop!(ex)\n",
    "        val, ind = each.expr, each.index\n",
    "        for i = previous+1:ind-1\n",
    "            push!(seq, :σ₀)\n",
    "        end\n",
    "        previous = ind\n",
    "        push!(seq, val)\n",
    "    end\n",
    "\n",
    "    if ind < ex.len\n",
    "        for i = ind+1:ex.len\n",
    "            push!(seq, :σ₀)\n",
    "        end\n",
    "    end\n",
    "    return vec2kron(seq)\n",
    "end"
   ]
  },
  {
   "cell_type": "markdown",
   "metadata": {},
   "source": [
    "#### BinaryExpr"
   ]
  },
  {
   "cell_type": "code",
   "execution_count": null,
   "metadata": {},
   "outputs": [],
   "source": [
    "toexpr(ex::BinaryExpr{DirectPlus}) = :($(toexpr(ex.left)) + $(toexpr(ex.right)))\n",
    "toexpr(ex::BinaryExpr{DirectMinus}) = :($(toexpr(ex.left)) - $(toexpr(ex.right)))\n"
   ]
  },
  {
   "cell_type": "markdown",
   "metadata": {},
   "source": [
    "We have to parse generated matrix sequence to a Julia `Expr` that calls `kron` function (we will not use `kronprod`, since we want to generate source code directly)"
   ]
  },
  {
   "cell_type": "code",
   "execution_count": null,
   "metadata": {},
   "outputs": [],
   "source": [
    "function vec2kron(seq::Vector)\n",
    "    a, b = seq[1], seq[2]\n",
    "    ex = Expr(:call, :kron, a, b)\n",
    "    for each in seq[3:end]\n",
    "        ex = Expr(:call, :kron, ex, each)\n",
    "    end\n",
    "    return ex\n",
    "end"
   ]
  },
  {
   "cell_type": "markdown",
   "metadata": {},
   "source": [
    "now let's see what this will produce"
   ]
  },
  {
   "cell_type": "code",
   "execution_count": null,
   "metadata": {},
   "outputs": [],
   "source": [
    "toexpr(ex)"
   ]
  }
 ],
 "metadata": {
  "celltoolbar": "Slideshow",
  "kernelspec": {
   "display_name": "Julia 0.6.3-pre",
   "language": "julia",
   "name": "julia-0.6"
  },
  "language_info": {
   "file_extension": ".jl",
   "mimetype": "application/julia",
   "name": "julia",
   "version": "0.6.3"
  }
 },
 "nbformat": 4,
 "nbformat_minor": 2
}
